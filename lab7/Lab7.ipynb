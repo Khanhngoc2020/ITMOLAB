{
 "cells": [
  {
   "cell_type": "markdown",
   "metadata": {},
   "source": [
    "# **ВОПРОС 1**"
   ]
  },
  {
   "cell_type": "code",
   "execution_count": 4,
   "metadata": {},
   "outputs": [
    {
     "name": "stdout",
     "output_type": "stream",
     "text": [
      "время выполнения операции поэлементного перемножения стандартных списков : 0.13849549999576993 \n",
      "время выполнения операции массивов NumPy: 0.004732700006570667\n"
     ]
    }
   ],
   "source": [
    "import numpy as np\n",
    "import random\n",
    "import time\n",
    "\n",
    "#создать 2 пустые массива произвольного размера\n",
    "arrSize = 1000000\n",
    "arrA = np.zeros(arrSize)\n",
    "arrB = np.zeros(arrSize)\n",
    "\n",
    "#добовить любые числа\n",
    "for i in range(arrSize):\n",
    "    arrA[i] = random.randint(0,100)\n",
    "    arrB[i] = random.randint(0,100)\n",
    "\n",
    "#стандартные списков\n",
    "t1Start = time.perf_counter() #начать отсчет времени с текущего момента\n",
    "mul = [a*b for a, b in zip(arrA, arrB)] #выполннить умножение\n",
    "t1Stop = time.perf_counter() - t1Start #время процесса\n",
    "\n",
    "#Numpy\n",
    "t2Start = time.perf_counter()\n",
    "mulNum = np.multiply(arrA,arrB)\n",
    "t2Stop = time.perf_counter() - t2Start\n",
    "#\n",
    "print(\"время выполнения операции поэлементного перемножения стандартных списков :\",t1Stop, \"\\n\" \"время выполнения операции массивов NumPy:\", t2Stop)"
   ]
  },
  {
   "cell_type": "markdown",
   "metadata": {},
   "source": [
    "# **ВОПРОС 2**"
   ]
  },
  {
   "cell_type": "code",
   "execution_count": 5,
   "metadata": {},
   "outputs": [
    {
     "name": "stdout",
     "output_type": "stream",
     "text": [
      "0       5.246382\n",
      "1       6.183110\n",
      "2       8.677789\n",
      "3       8.146643\n",
      "4       7.512608\n",
      "          ...   \n",
      "7181    9.689175\n",
      "7182    9.264883\n",
      "7183    9.297300\n",
      "7184    6.580460\n",
      "7185    5.216369\n",
      "Name: Chloramines, Length: 7186, dtype: float64\n"
     ]
    }
   ],
   "source": [
    "import matplotlib.pyplot as plt\n",
    "import pandas as pd\n",
    "import seaborn as sns\n",
    "\n",
    "data = pd.read_csv('data2.csv')\n",
    "chloramines = data['Chloramines']\n",
    "print(chloramines)"
   ]
  },
  {
   "cell_type": "code",
   "execution_count": 9,
   "metadata": {},
   "outputs": [],
   "source": [
    "fig, (ax1, ax2) = plt.subplots(nrows=1, ncols=2, figsize =(15,7))\n",
    "plt.style.use('fivethirtyeight')\n",
    "\n",
    "#Строить гистограмму\n",
    "ax1.hist(chloramines, bins = 20, color='lightblue', edgecolor='black')\n",
    "ax1.set(xlabel='Chloramines concentration',\n",
    "         ylabel='Frequency',\n",
    "         title='Histrogram of Chloramines')\n",
    "         \n",
    "#Строить нормализованную гистограмму \n",
    "ax2.hist(chloramines, density=True, bins=20, color='blue', edgecolor='black')\n",
    "ax2.set(xlabel='Chloramines concentration',\n",
    "        ylabel='Probability density',\n",
    "        title='Normalized histogram')\n",
    "plt.show();\n"
   ]
  },
  {
   "cell_type": "code",
   "execution_count": 19,
   "metadata": {},
   "outputs": [],
   "source": [
    "fig, ax3 = plt.subplots()\n",
    "sns.set_style('whitegrid')\n",
    "\n",
    "ax3.hist(chloramines, bins=20, color='lightblue')\n",
    "ax3.set(xlabel='Chloramines concentration',\n",
    "        ylabel='Frequency',\n",
    "        title=\"Histogram of Chloramines concentration\")\n",
    "ax4 = ax3.twinx()\n",
    "\n",
    "#строить Стандартизированную графику\n",
    "sns.histplot(x=chloramines, bins=20, kde=True, color='darkblue', stat='density')\n",
    "\n",
    "#Рассчитайте среднее значение и среднеквадратичное отклонение данных\n",
    "mean = np.mean(chloramines)\n",
    "std_dev = np.std(chloramines)\n",
    "\n",
    "plt.axvline(mean, color='r',linewidth=1.5, label='mean')\n",
    "plt.axvline(mean + std_dev, color='k', linestyle='dashed',linewidth=1.5, label='1 std')\n",
    "plt.axvline(mean - std_dev, color='k', linestyle='dashed', linewidth=1.5)\n",
    "plt.axvline(mean + 2*std_dev, color='g', linestyle='dashed',linewidth=1.5, label='2 std')\n",
    "plt.axvline(mean - 2*std_dev, color='g', linestyle='dashed', linewidth=1.5)\n",
    "plt.legend();\n",
    "plt.show()"
   ]
  },
  {
   "cell_type": "markdown",
   "metadata": {},
   "source": [
    "# **ВОПРОС 3**"
   ]
  },
  {
   "cell_type": "code",
   "execution_count": 21,
   "metadata": {},
   "outputs": [],
   "source": [
    "from mpl_toolkits.mplot3d import Axes3D\n",
    "import matplotlib\n",
    "matplotlib.use('TkAgg')\n",
    "\n",
    "def func(x):\n",
    "    y = np.cos(x)\n",
    "    z = x / np.sin(x)\n",
    "    return y, z\n",
    "\n",
    "x = np.linspace(-3*np.pi, 3*np.pi, 500)\n",
    "y, z = func(x)\n",
    "\n",
    "fig = plt.figure()\n",
    "ax = fig.add_subplot(111, projection='3d')\n",
    "ax.plot(x, y, z)\n",
    "\n",
    "ax.set_xlabel('X')\n",
    "ax.set_ylabel('Y')\n",
    "ax.set_zlabel('Z')\n",
    "\n",
    "plt.show()\n",
    "\n"
   ]
  },
  {
   "attachments": {},
   "cell_type": "markdown",
   "metadata": {},
   "source": [
    "# **ДОПОЛНИТЕЛЬНОЕ ЗАДАНИЕ**"
   ]
  },
  {
   "cell_type": "code",
   "execution_count": 22,
   "metadata": {},
   "outputs": [],
   "source": [
    "from matplotlib.animation import FuncAnimation, PillowWriter\n",
    "\n",
    "fig, ax = plt.subplots()\n",
    "\n",
    "def graph (frames):\n",
    "    x = np.linspace(0, 2*np.pi, 500)\n",
    "    y = np.sin(x + 0.1*frames)\n",
    "    ax.clear()\n",
    "    ax.plot(x, y)\n",
    "\n",
    "ani = FuncAnimation(fig, graph, frames=500, interval=50) #create graph - take graph - number of frames = 500 - appearence each frame = 50/ms\n",
    "writer = PillowWriter(fps=20) #frames per second\n",
    "ani.save('y(x)=sin(x).gif', writer=writer)\n"
   ]
  }
 ],
 "metadata": {
  "kernelspec": {
   "display_name": "Python 3.10.10 ('env': venv)",
   "language": "python",
   "name": "python3"
  },
  "language_info": {
   "codemirror_mode": {
    "name": "ipython",
    "version": 3
   },
   "file_extension": ".py",
   "mimetype": "text/x-python",
   "name": "python",
   "nbconvert_exporter": "python",
   "pygments_lexer": "ipython3",
   "version": "3.10.10"
  },
  "orig_nbformat": 4,
  "vscode": {
   "interpreter": {
    "hash": "0c815ef923d211711566cfdf539a160584b1a2958d60bbc03a404fe412f6521f"
   }
  }
 },
 "nbformat": 4,
 "nbformat_minor": 2
}
